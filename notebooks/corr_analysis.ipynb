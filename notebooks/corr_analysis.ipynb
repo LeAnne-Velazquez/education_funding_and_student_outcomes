{
 "cells": [
  {
   "cell_type": "code",
   "execution_count": 1,
   "id": "7e5dee74-bd5d-494e-903a-55e6690e4681",
   "metadata": {},
   "outputs": [],
   "source": [
    "import pandas as pd\n",
    "import matplotlib.pyplot as plt\n",
    "import requests\n",
    "import numpy as np\n",
    "from scipy.stats import pearsonr"
   ]
  },
  {
   "cell_type": "code",
   "execution_count": 2,
   "id": "d1e4c452-ec6b-4cc3-aa85-45650b0e56d1",
   "metadata": {},
   "outputs": [],
   "source": [
    "per_pupil_exp_clean = pd.read_csv('../data/per_pupil_exp_clean.csv')"
   ]
  },
  {
   "cell_type": "code",
   "execution_count": 3,
   "id": "1a42708b-2ada-4933-9eb8-693d3e8492f5",
   "metadata": {},
   "outputs": [],
   "source": [
    "grade_4_math = pd.read_csv('../data/grade_4_math.csv')"
   ]
  },
  {
   "cell_type": "code",
   "execution_count": 4,
   "id": "cbf2c322-6b0c-4dfa-b73a-8e1e7a97dfc2",
   "metadata": {},
   "outputs": [],
   "source": [
    "grade_8_math = pd.read_csv('../data/grade_8_math.csv')"
   ]
  },
  {
   "cell_type": "code",
   "execution_count": 5,
   "id": "74aaf505-d68e-4183-a4b7-df023faf45fb",
   "metadata": {},
   "outputs": [],
   "source": [
    "grade_4_reading = pd.read_csv('../data/grade_4_reading.csv')"
   ]
  },
  {
   "cell_type": "code",
   "execution_count": 6,
   "id": "dffb0b60-9829-4399-a0cf-8ba9e2e57f0b",
   "metadata": {},
   "outputs": [],
   "source": [
    "grade_8_reading = pd.read_csv('../data/grade_8_reading.csv')"
   ]
  },
  {
   "cell_type": "markdown",
   "id": "674fd4dc-55e8-43a5-92da-abcae02a893a",
   "metadata": {},
   "source": [
    "#### 4th reading"
   ]
  },
  {
   "cell_type": "code",
   "execution_count": 8,
   "id": "a826ffd3-0aa1-415d-99b7-ac924408d204",
   "metadata": {},
   "outputs": [],
   "source": [
    "ppe_4th_reading = pd.merge(\n",
    "    per_pupil_exp_clean,\n",
    "    grade_4_reading,\n",
    "    left_on=['State', 'Schl_Year_Start'],\n",
    "    right_on=['State', 'Year'],\n",
    "    how='inner'\n",
    ")"
   ]
  },
  {
   "cell_type": "code",
   "execution_count": 10,
   "id": "b5b15a4c-12a1-4756-98da-16c98bdaea0d",
   "metadata": {},
   "outputs": [
    {
     "data": {
      "text/html": [
       "<div>\n",
       "<style scoped>\n",
       "    .dataframe tbody tr th:only-of-type {\n",
       "        vertical-align: middle;\n",
       "    }\n",
       "\n",
       "    .dataframe tbody tr th {\n",
       "        vertical-align: top;\n",
       "    }\n",
       "\n",
       "    .dataframe thead th {\n",
       "        text-align: right;\n",
       "    }\n",
       "</style>\n",
       "<table border=\"1\" class=\"dataframe\">\n",
       "  <thead>\n",
       "    <tr style=\"text-align: right;\">\n",
       "      <th></th>\n",
       "      <th>State</th>\n",
       "      <th>TimeFrame</th>\n",
       "      <th>Schl_Year_Start</th>\n",
       "      <th>PPE</th>\n",
       "      <th>Inflation_Factor</th>\n",
       "      <th>Value_adj</th>\n",
       "      <th>Year</th>\n",
       "      <th>Avg_Scale_Score</th>\n",
       "    </tr>\n",
       "  </thead>\n",
       "  <tbody>\n",
       "    <tr>\n",
       "      <th>0</th>\n",
       "      <td>Alabama</td>\n",
       "      <td>2019-2020</td>\n",
       "      <td>2019</td>\n",
       "      <td>10140</td>\n",
       "      <td>1.23</td>\n",
       "      <td>12472.2</td>\n",
       "      <td>2019</td>\n",
       "      <td>211.7</td>\n",
       "    </tr>\n",
       "    <tr>\n",
       "      <th>1</th>\n",
       "      <td>Alabama</td>\n",
       "      <td>2017-2018</td>\n",
       "      <td>2017</td>\n",
       "      <td>9717</td>\n",
       "      <td>1.27</td>\n",
       "      <td>12340.6</td>\n",
       "      <td>2017</td>\n",
       "      <td>216.4</td>\n",
       "    </tr>\n",
       "    <tr>\n",
       "      <th>2</th>\n",
       "      <td>Alabama</td>\n",
       "      <td>2015-2016</td>\n",
       "      <td>2015</td>\n",
       "      <td>9258</td>\n",
       "      <td>1.32</td>\n",
       "      <td>12220.6</td>\n",
       "      <td>2015</td>\n",
       "      <td>217.0</td>\n",
       "    </tr>\n",
       "    <tr>\n",
       "      <th>3</th>\n",
       "      <td>Alabama</td>\n",
       "      <td>2013-2014</td>\n",
       "      <td>2013</td>\n",
       "      <td>9036</td>\n",
       "      <td>1.34</td>\n",
       "      <td>12108.2</td>\n",
       "      <td>2013</td>\n",
       "      <td>218.6</td>\n",
       "    </tr>\n",
       "    <tr>\n",
       "      <th>4</th>\n",
       "      <td>Alabama</td>\n",
       "      <td>2011-2012</td>\n",
       "      <td>2011</td>\n",
       "      <td>8577</td>\n",
       "      <td>1.40</td>\n",
       "      <td>12007.8</td>\n",
       "      <td>2011</td>\n",
       "      <td>220.3</td>\n",
       "    </tr>\n",
       "    <tr>\n",
       "      <th>...</th>\n",
       "      <td>...</td>\n",
       "      <td>...</td>\n",
       "      <td>...</td>\n",
       "      <td>...</td>\n",
       "      <td>...</td>\n",
       "      <td>...</td>\n",
       "      <td>...</td>\n",
       "      <td>...</td>\n",
       "    </tr>\n",
       "    <tr>\n",
       "      <th>505</th>\n",
       "      <td>Wyoming</td>\n",
       "      <td>2009-2010</td>\n",
       "      <td>2009</td>\n",
       "      <td>15232</td>\n",
       "      <td>1.46</td>\n",
       "      <td>22238.7</td>\n",
       "      <td>2009</td>\n",
       "      <td>222.7</td>\n",
       "    </tr>\n",
       "    <tr>\n",
       "      <th>506</th>\n",
       "      <td>Wyoming</td>\n",
       "      <td>2007-2008</td>\n",
       "      <td>2007</td>\n",
       "      <td>13856</td>\n",
       "      <td>1.52</td>\n",
       "      <td>21061.1</td>\n",
       "      <td>2007</td>\n",
       "      <td>225.3</td>\n",
       "    </tr>\n",
       "    <tr>\n",
       "      <th>507</th>\n",
       "      <td>Wyoming</td>\n",
       "      <td>2003-2004</td>\n",
       "      <td>2003</td>\n",
       "      <td>9308</td>\n",
       "      <td>1.70</td>\n",
       "      <td>15823.6</td>\n",
       "      <td>2003</td>\n",
       "      <td>222.1</td>\n",
       "    </tr>\n",
       "    <tr>\n",
       "      <th>508</th>\n",
       "      <td>Wyoming</td>\n",
       "      <td>2005-2006</td>\n",
       "      <td>2005</td>\n",
       "      <td>11437</td>\n",
       "      <td>1.62</td>\n",
       "      <td>18527.9</td>\n",
       "      <td>2005</td>\n",
       "      <td>223.3</td>\n",
       "    </tr>\n",
       "    <tr>\n",
       "      <th>509</th>\n",
       "      <td>Wyoming</td>\n",
       "      <td>2002-2003</td>\n",
       "      <td>2002</td>\n",
       "      <td>8985</td>\n",
       "      <td>1.74</td>\n",
       "      <td>15633.9</td>\n",
       "      <td>2002</td>\n",
       "      <td>221.1</td>\n",
       "    </tr>\n",
       "  </tbody>\n",
       "</table>\n",
       "<p>510 rows × 8 columns</p>\n",
       "</div>"
      ],
      "text/plain": [
       "       State  TimeFrame  Schl_Year_Start    PPE  Inflation_Factor  Value_adj  \\\n",
       "0    Alabama  2019-2020             2019  10140              1.23    12472.2   \n",
       "1    Alabama  2017-2018             2017   9717              1.27    12340.6   \n",
       "2    Alabama  2015-2016             2015   9258              1.32    12220.6   \n",
       "3    Alabama  2013-2014             2013   9036              1.34    12108.2   \n",
       "4    Alabama  2011-2012             2011   8577              1.40    12007.8   \n",
       "..       ...        ...              ...    ...               ...        ...   \n",
       "505  Wyoming  2009-2010             2009  15232              1.46    22238.7   \n",
       "506  Wyoming  2007-2008             2007  13856              1.52    21061.1   \n",
       "507  Wyoming  2003-2004             2003   9308              1.70    15823.6   \n",
       "508  Wyoming  2005-2006             2005  11437              1.62    18527.9   \n",
       "509  Wyoming  2002-2003             2002   8985              1.74    15633.9   \n",
       "\n",
       "     Year  Avg_Scale_Score  \n",
       "0    2019            211.7  \n",
       "1    2017            216.4  \n",
       "2    2015            217.0  \n",
       "3    2013            218.6  \n",
       "4    2011            220.3  \n",
       "..    ...              ...  \n",
       "505  2009            222.7  \n",
       "506  2007            225.3  \n",
       "507  2003            222.1  \n",
       "508  2005            223.3  \n",
       "509  2002            221.1  \n",
       "\n",
       "[510 rows x 8 columns]"
      ]
     },
     "execution_count": 10,
     "metadata": {},
     "output_type": "execute_result"
    }
   ],
   "source": [
    "ppe_4th_reading"
   ]
  },
  {
   "cell_type": "code",
   "execution_count": 11,
   "id": "e7cb0b77-73ab-420a-989c-5af6850691d6",
   "metadata": {},
   "outputs": [
    {
     "name": "stdout",
     "output_type": "stream",
     "text": [
      "Correlation coefficient: 0.2349799437533934\n"
     ]
    }
   ],
   "source": [
    "correlation = ppe_4th_reading['Value_adj'].corr(ppe_4th_reading['Avg_Scale_Score'])\n",
    "print(\"Correlation coefficient:\", correlation)"
   ]
  },
  {
   "cell_type": "code",
   "execution_count": 12,
   "id": "77e78a77-b9eb-4378-b231-0bb02642b9ee",
   "metadata": {},
   "outputs": [
    {
     "name": "stdout",
     "output_type": "stream",
     "text": [
      "Correlation for DC: 0.8558051728303131\n"
     ]
    }
   ],
   "source": [
    "dc_df = ppe_4th_reading[ppe_4th_reading['State'] == 'District of Columbia']\n",
    "\n",
    "\n",
    "correlation_dc = dc_df['Value_adj'].corr(dc_df['Avg_Scale_Score'])\n",
    "print(\"Correlation for DC:\", correlation_dc)"
   ]
  },
  {
   "cell_type": "code",
   "execution_count": 13,
   "id": "4485fd74-df35-401b-a51a-cf8468fa1ecb",
   "metadata": {},
   "outputs": [
    {
     "name": "stdout",
     "output_type": "stream",
     "text": [
      "Correlation for UT: 0.5838822631191344\n"
     ]
    }
   ],
   "source": [
    "ut_df = ppe_4th_reading[ppe_4th_reading['State'] == 'Utah']\n",
    "\n",
    "\n",
    "correlation_ut = ut_df['Value_adj'].corr(ut_df['Avg_Scale_Score'])\n",
    "print(\"Correlation for UT:\", correlation_ut)"
   ]
  },
  {
   "cell_type": "markdown",
   "id": "bb5e561d-1b37-4bd0-bb78-c18e3d468319",
   "metadata": {},
   "source": [
    "#### 8th reading"
   ]
  },
  {
   "cell_type": "code",
   "execution_count": 14,
   "id": "0887afc4-e945-4ce9-ac73-05e3b5ccc169",
   "metadata": {},
   "outputs": [],
   "source": [
    "ppe_8th_reading = pd.merge(\n",
    "    per_pupil_exp_clean,\n",
    "    grade_8_reading,\n",
    "    left_on=['State', 'Schl_Year_Start'],\n",
    "    right_on=['State', 'Year'],\n",
    "    how='inner'\n",
    ")"
   ]
  },
  {
   "cell_type": "code",
   "execution_count": 15,
   "id": "439b28be-6f23-49bd-b023-2bfe43b2041b",
   "metadata": {},
   "outputs": [
    {
     "name": "stdout",
     "output_type": "stream",
     "text": [
      "Correlation coefficient: 0.174995103698551\n"
     ]
    }
   ],
   "source": [
    "correlation = ppe_8th_reading['Value_adj'].corr(ppe_8th_reading['Avg_Scale_Score'])\n",
    "print(\"Correlation coefficient:\", correlation)"
   ]
  },
  {
   "cell_type": "code",
   "execution_count": 16,
   "id": "bd133c91-72c1-46fb-8647-e03a91f72158",
   "metadata": {},
   "outputs": [
    {
     "name": "stdout",
     "output_type": "stream",
     "text": [
      "Correlation for DC: 0.7551448123270068\n"
     ]
    }
   ],
   "source": [
    "dc_df = ppe_8th_reading[ppe_8th_reading['State'] == 'District of Columbia']\n",
    "\n",
    "\n",
    "correlation_dc = dc_df['Value_adj'].corr(dc_df['Avg_Scale_Score'])\n",
    "print(\"Correlation for DC:\", correlation_dc)"
   ]
  },
  {
   "cell_type": "code",
   "execution_count": 17,
   "id": "fb8b5a97-2893-46b2-8f62-a16a88d47c71",
   "metadata": {},
   "outputs": [
    {
     "name": "stdout",
     "output_type": "stream",
     "text": [
      "Correlation for UT: 0.3906565755127553\n"
     ]
    }
   ],
   "source": [
    "ut_df = ppe_8th_reading[ppe_8th_reading['State'] == 'Utah']\n",
    "\n",
    "\n",
    "correlation_ut = ut_df['Value_adj'].corr(ut_df['Avg_Scale_Score'])\n",
    "print(\"Correlation for UT:\", correlation_ut)"
   ]
  },
  {
   "cell_type": "code",
   "execution_count": null,
   "id": "c5d281cc-9f86-4871-9ad0-468c321c4478",
   "metadata": {},
   "outputs": [],
   "source": []
  },
  {
   "cell_type": "markdown",
   "id": "d40e2771-e65a-4746-88f1-131dc262a310",
   "metadata": {},
   "source": [
    "#### 4th math"
   ]
  },
  {
   "cell_type": "code",
   "execution_count": 23,
   "id": "238028e5-57c5-42e1-962e-8842563a31b2",
   "metadata": {},
   "outputs": [],
   "source": [
    "ppe_4th_math = pd.merge(\n",
    "    per_pupil_exp_clean,\n",
    "    grade_4_math,\n",
    "    left_on=['State', 'Schl_Year_Start'],\n",
    "    right_on=['State', 'Year'],\n",
    "    how='inner'\n",
    ")"
   ]
  },
  {
   "cell_type": "code",
   "execution_count": 24,
   "id": "57c5e773-5bfb-44d9-b105-d527464e28fd",
   "metadata": {},
   "outputs": [
    {
     "name": "stdout",
     "output_type": "stream",
     "text": [
      "Correlation coefficient: 0.20234242906250194\n"
     ]
    }
   ],
   "source": [
    "correlation = ppe_4th_math['Value_adj'].corr(ppe_4th_math['Avg_Scale_Score'])\n",
    "print(\"Correlation coefficient:\", correlation)"
   ]
  },
  {
   "cell_type": "code",
   "execution_count": 25,
   "id": "f04f7ffc-8a6f-4fef-b075-5593837dfee1",
   "metadata": {},
   "outputs": [
    {
     "name": "stdout",
     "output_type": "stream",
     "text": [
      "Correlation for DC: 0.8342168724328346\n"
     ]
    }
   ],
   "source": [
    "dc_df = ppe_4th_math[ppe_4th_math['State'] == 'District of Columbia']\n",
    "\n",
    "\n",
    "correlation_dc = dc_df['Value_adj'].corr(dc_df['Avg_Scale_Score'])\n",
    "print(\"Correlation for DC:\", correlation_dc)"
   ]
  },
  {
   "cell_type": "code",
   "execution_count": 26,
   "id": "405f147b-46a6-45f1-bad7-48e0cc3bab84",
   "metadata": {},
   "outputs": [
    {
     "name": "stdout",
     "output_type": "stream",
     "text": [
      "Correlation for UT: 0.6145414084238979\n"
     ]
    }
   ],
   "source": [
    "ut_df = ppe_4th_math[ppe_8th_math['State'] == 'Utah']\n",
    "\n",
    "\n",
    "correlation_ut = ut_df['Value_adj'].corr(ut_df['Avg_Scale_Score'])\n",
    "print(\"Correlation for UT:\", correlation_ut)"
   ]
  },
  {
   "cell_type": "markdown",
   "id": "37e15b12-22a2-4132-b746-ef08f3239c09",
   "metadata": {},
   "source": [
    "#### 8th math"
   ]
  },
  {
   "cell_type": "code",
   "execution_count": 18,
   "id": "8f20c11a-7873-4255-ac7d-51f4c757a885",
   "metadata": {},
   "outputs": [],
   "source": [
    "ppe_8th_math = pd.merge(\n",
    "    per_pupil_exp_clean,\n",
    "    grade_8_math,\n",
    "    left_on=['State', 'Schl_Year_Start'],\n",
    "    right_on=['State', 'Year'],\n",
    "    how='inner'\n",
    ")"
   ]
  },
  {
   "cell_type": "code",
   "execution_count": 19,
   "id": "dde6fb3a-736a-4d80-950f-c9a6631ae9e4",
   "metadata": {},
   "outputs": [
    {
     "name": "stdout",
     "output_type": "stream",
     "text": [
      "Correlation coefficient: 0.19062511987638647\n"
     ]
    }
   ],
   "source": [
    "correlation = ppe_8th_math['Value_adj'].corr(ppe_8th_math['Avg_Scale_Score'])\n",
    "print(\"Correlation coefficient:\", correlation)"
   ]
  },
  {
   "cell_type": "code",
   "execution_count": 20,
   "id": "389f7592-6d7c-4674-b034-c4d24835b9b0",
   "metadata": {},
   "outputs": [
    {
     "name": "stdout",
     "output_type": "stream",
     "text": [
      "Correlation for DC: 0.8423162936724141\n"
     ]
    }
   ],
   "source": [
    "dc_df = ppe_8th_math[ppe_8th_math['State'] == 'District of Columbia']\n",
    "\n",
    "\n",
    "correlation_dc = dc_df['Value_adj'].corr(dc_df['Avg_Scale_Score'])\n",
    "print(\"Correlation for DC:\", correlation_dc)"
   ]
  },
  {
   "cell_type": "code",
   "execution_count": 21,
   "id": "778a1066-1cce-4aab-a3ea-5dcddbf7c07b",
   "metadata": {},
   "outputs": [
    {
     "name": "stdout",
     "output_type": "stream",
     "text": [
      "Correlation for UT: 0.6405672298341959\n"
     ]
    }
   ],
   "source": [
    "ut_df = ppe_8th_math[ppe_8th_math['State'] == 'Utah']\n",
    "\n",
    "\n",
    "correlation_ut = ut_df['Value_adj'].corr(ut_df['Avg_Scale_Score'])\n",
    "print(\"Correlation for UT:\", correlation_ut)"
   ]
  },
  {
   "cell_type": "code",
   "execution_count": null,
   "id": "830baeb7-7819-4f14-85ad-1a21a18e7166",
   "metadata": {},
   "outputs": [],
   "source": []
  }
 ],
 "metadata": {
  "kernelspec": {
   "display_name": "Python [conda env:base] *",
   "language": "python",
   "name": "conda-base-py"
  },
  "language_info": {
   "codemirror_mode": {
    "name": "ipython",
    "version": 3
   },
   "file_extension": ".py",
   "mimetype": "text/x-python",
   "name": "python",
   "nbconvert_exporter": "python",
   "pygments_lexer": "ipython3",
   "version": "3.13.5"
  }
 },
 "nbformat": 4,
 "nbformat_minor": 5
}
